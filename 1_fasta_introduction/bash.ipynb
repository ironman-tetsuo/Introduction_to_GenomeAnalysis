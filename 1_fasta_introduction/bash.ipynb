{
 "cells": [
  {
   "cell_type": "markdown",
   "metadata": {},
   "source": [
    "# Genome sequence analysis using Bash"
   ]
  },
  {
   "cell_type": "markdown",
   "metadata": {},
   "source": [
    "### Download the goldfish reference genome"
   ]
  },
  {
   "cell_type": "code",
   "execution_count": null,
   "metadata": {
    "scrolled": true
   },
   "outputs": [
    {
     "name": "stdout",
     "output_type": "stream",
     "text": [
      "Trying 2607:f220:41e:250::13...\n",
      "Connected to ftp.wip.ncbi.nlm.nih.gov.\n",
      "220-\n",
      " This warning banner provides privacy and security notices consistent with \n",
      " applicable federal laws, directives, and other federal guidance for accessing \n",
      " this Government system, which includes all devices/storage media attached to \n",
      " this system. This system is provided for Government-authorized use only. \n",
      " Unauthorized or improper use of this system is prohibited and may result in \n",
      " disciplinary action and/or civil and criminal penalties. At any time, and for \n",
      " any lawful Government purpose, the government may monitor, record, and audit \n",
      " your system usage and/or intercept, search and seize any communication or data \n",
      " transiting or stored on this system. Therefore, you have no reasonable \n",
      " expectation of privacy. Any communication or data transiting or stored on this \n",
      " system may be disclosed or used for any lawful Government purpose.\n",
      "220 FTP Server ready.\n",
      "331 Anonymous login ok, send your complete email address as your password\n",
      "230 Anonymous access granted, restrictions apply\n",
      "Remote system type is UNIX.\n",
      "Using binary mode to transfer files.\n",
      "200 Type set to I\n",
      "250 CWD command successful\n",
      "250 CWD command successful\n",
      "250 CWD command successful\n",
      "250 CWD command successful\n",
      "250 CWD command successful\n",
      "250 CWD command successful\n",
      "250 CWD command successful\n",
      "local: GCF_003368295.1_ASM336829v1_genomic.fna.gz remote: GCF_003368295.1_ASM336829v1_genomic.fna.gz\n",
      "229 Entering Extended Passive Mode (|||50056|)\n",
      "150 Opening BINARY mode data connection for GCF_003368295.1_ASM336829v1_genomic.fna.gz (568951114 bytes)\n"
     ]
    }
   ],
   "source": [
    "ftp ftp://ftp.ncbi.nlm.nih.gov/genomes/all/GCF/003/368/295/GCF_003368295.1_ASM336829v1/GCF_003368295.1_ASM336829v1_genomic.fna.gz"
   ]
  },
  {
   "cell_type": "markdown",
   "metadata": {},
   "source": [
    "### Count the number of scaffolds using shell commands"
   ]
  },
  {
   "cell_type": "code",
   "execution_count": 1,
   "metadata": {},
   "outputs": [
    {
     "name": "stdout",
     "output_type": "stream",
     "text": [
      "GCF_003368295.1_ASM336829v1_genomic.fna.gz\n",
      "bash.ipynb\n"
     ]
    }
   ],
   "source": [
    "#Count using plain shell script\n",
    "ls"
   ]
  },
  {
   "cell_type": "code",
   "execution_count": 1,
   "metadata": {},
   "outputs": [],
   "source": [
    "#Decompress the genome sequence file\n",
    "gunzip GCF_003368295.1_ASM336829v1_genomic.fna.gz"
   ]
  },
  {
   "cell_type": "code",
   "execution_count": 23,
   "metadata": {},
   "outputs": [
    {
     "name": "stdout",
     "output_type": "stream",
     "text": [
      "GCF_003368295.1_ASM336829v1_genomic.fna\tbash.ipynb\n"
     ]
    }
   ],
   "source": [
    "#Show the list of files\n",
    "ls"
   ]
  },
  {
   "cell_type": "code",
   "execution_count": 4,
   "metadata": {},
   "outputs": [
    {
     "name": "stdout",
     "output_type": "stream",
     "text": [
      ">NC_039243.1 Carassius auratus strain Wakin chromosome 1, ASM336829v1, whole genome shotgun sequence\n",
      ">NC_039244.1 Carassius auratus strain Wakin chromosome 2, ASM336829v1, whole genome shotgun sequence\n",
      ">NC_039245.1 Carassius auratus strain Wakin chromosome 3, ASM336829v1, whole genome shotgun sequence\n",
      ">NC_039246.1 Carassius auratus strain Wakin chromosome 4, ASM336829v1, whole genome shotgun sequence\n",
      ">NC_039247.1 Carassius auratus strain Wakin chromosome 5, ASM336829v1, whole genome shotgun sequence\n"
     ]
    }
   ],
   "source": [
    "grep \"^>\" GCF_003368295.1_ASM336829v1_genomic.fna | head -n 5"
   ]
  },
  {
   "cell_type": "code",
   "execution_count": 5,
   "metadata": {},
   "outputs": [
    {
     "name": "stdout",
     "output_type": "stream",
     "text": [
      "    6216\n"
     ]
    }
   ],
   "source": [
    "grep \"^>\" GCF_003368295.1_ASM336829v1_genomic.fna | wc -l"
   ]
  },
  {
   "cell_type": "markdown",
   "metadata": {},
   "source": [
    "### Count the number of scaffolds using bioawk"
   ]
  },
  {
   "cell_type": "code",
   "execution_count": 7,
   "metadata": {},
   "outputs": [
    {
     "name": "stdout",
     "output_type": "stream",
     "text": [
      "NC_039243.1\n",
      "NC_039244.1\n",
      "NC_039245.1\n",
      "NC_039246.1\n",
      "NC_039247.1\n"
     ]
    }
   ],
   "source": [
    "#List scaffold names\n",
    "bioawk -c fastx  '{print $name}' GCF_003368295.1_ASM336829v1_genomic.fna | head -n 5"
   ]
  },
  {
   "cell_type": "code",
   "execution_count": 8,
   "metadata": {},
   "outputs": [
    {
     "name": "stdout",
     "output_type": "stream",
     "text": [
      "    6216\n"
     ]
    }
   ],
   "source": [
    "#Count the number of scaffolds\n",
    "bioawk -c fastx  '{print $name}' GCF_003368295.1_ASM336829v1_genomic.fna | wc -l"
   ]
  },
  {
   "cell_type": "markdown",
   "metadata": {},
   "source": [
    "### Count the sequence lengthes of each scaffold"
   ]
  },
  {
   "cell_type": "code",
   "execution_count": 4,
   "metadata": {},
   "outputs": [
    {
     "name": "stdout",
     "output_type": "stream",
     "text": [
      "NC_039243.1\t34767119\n",
      "NC_039244.1\t30202465\n",
      "NC_039245.1\t30025718\n",
      "NC_039246.1\t29272933\n",
      "NC_039247.1\t33106987\n"
     ]
    }
   ],
   "source": [
    "#Count sequence lengthes of scaffold\n",
    "bioawk -c fastx  '{print $name,length($seq)}' GCF_003368295.1_ASM336829v1_genomic.fna | head -n 5"
   ]
  },
  {
   "cell_type": "code",
   "execution_count": 21,
   "metadata": {},
   "outputs": [
    {
     "name": "stdout",
     "output_type": "stream",
     "text": [
      "1820.64\n"
     ]
    }
   ],
   "source": [
    "#Total length of genomic dna\n",
    "bioawk -c fastx  '{SUM += length($seq)}END{print(SUM/(10^6))}' GCF_003368295.1_ASM336829v1_genomic.fna"
   ]
  },
  {
   "cell_type": "code",
   "execution_count": 5,
   "metadata": {},
   "outputs": [
    {
     "name": "stdout",
     "output_type": "stream",
     "text": [
      "NC_039251.1\t37.1851\n",
      "NC_039249.1\t36.167\n",
      "NC_039274.1\t35.7353\n",
      "NC_039264.1\t34.771\n",
      "NC_039243.1\t34.7671\n",
      "NC_039256.1\t33.7302\n",
      "NC_039247.1\t33.107\n",
      "NC_039269.1\t31.5269\n",
      "NC_039250.1\t30.8394\n",
      "NC_039244.1\t30.2025\n",
      "NC_039245.1\t30.0257\n",
      "NC_039272.1\t29.8231\n",
      "NC_039261.1\t29.3396\n",
      "NC_039246.1\t29.2729\n",
      "NC_039262.1\t28.6241\n",
      "NC_039273.1\t28.3799\n",
      "NC_039248.1\t28.2434\n",
      "NC_039258.1\t28.066\n",
      "NC_039276.1\t27.8395\n",
      "NC_039259.1\t27.6483\n"
     ]
    }
   ],
   "source": [
    "#Sort the count sequence lengthes of scaffold in Mb unit\n",
    "bioawk -c fastx  '{print $name, length($seq)/(10^6)}' GCF_003368295.1_ASM336829v1_genomic.fna | sort -k2nr | head -n 20"
   ]
  },
  {
   "cell_type": "code",
   "execution_count": 6,
   "metadata": {},
   "outputs": [
    {
     "name": "stdout",
     "output_type": "stream",
     "text": [
      "NC_039251.1\t37.1851\n",
      "NC_039249.1\t36.167\n",
      "NC_039274.1\t35.7353\n",
      "NC_039264.1\t34.771\n",
      "NC_039243.1\t34.7671\n",
      "NC_039256.1\t33.7302\n",
      "NC_039247.1\t33.107\n",
      "NC_039269.1\t31.5269\n",
      "NC_039250.1\t30.8394\n",
      "NC_039244.1\t30.2025\n",
      "NC_039245.1\t30.0257\n",
      "NC_039272.1\t29.8231\n",
      "NC_039261.1\t29.3396\n",
      "NC_039246.1\t29.2729\n",
      "NC_039262.1\t28.6241\n",
      "NC_039273.1\t28.3799\n",
      "NC_039248.1\t28.2434\n",
      "NC_039258.1\t28.066\n",
      "NC_039276.1\t27.8395\n",
      "NC_039259.1\t27.6483\n",
      "NC_039270.1\t26.7925\n",
      "NC_039283.1\t26.7285\n",
      "NC_039263.1\t26.2641\n",
      "NC_039255.1\t26.064\n",
      "NC_039257.1\t25.4097\n",
      "NC_039260.1\t24.8561\n",
      "NC_039280.1\t24.4252\n",
      "NC_039268.1\t24.1975\n",
      "NC_039271.1\t23.6009\n",
      "NC_039267.1\t23.4256\n",
      "NC_039266.1\t23.1792\n",
      "NC_039285.1\t22.7634\n",
      "NC_039252.1\t21.9349\n",
      "NC_039254.1\t21.3215\n",
      "NC_039282.1\t20.9434\n",
      "NC_039292.1\t20.7149\n",
      "NC_039278.1\t20.7073\n",
      "NC_039287.1\t19.898\n",
      "NC_039265.1\t19.8852\n",
      "NC_039277.1\t19.8191\n",
      "NC_039288.1\t19.2356\n",
      "NC_039279.1\t18.5279\n",
      "NC_039253.1\t18.5272\n",
      "NC_039284.1\t18.5037\n",
      "NC_039291.1\t16.7329\n",
      "NC_039289.1\t15.8348\n",
      "NC_039286.1\t15.5725\n",
      "NC_039281.1\t13.3063\n",
      "NC_039290.1\t11.6251\n",
      "NC_039293.1\t10.0899\n",
      "NC_039298.1\t7.15542\n",
      "NC_039294.1\t5.15756\n",
      "NC_039275.1\t4.84606\n",
      "NC_039300.1\t3.71029\n",
      "NW_020528035.1\t3.0779\n",
      "NW_020527547.1\t3.03062\n",
      "NW_020523372.1\t3.00112\n",
      "NW_020523638.1\t2.81151\n",
      "NW_020523286.1\t2.67491\n",
      "NW_020527778.1\t2.67035\n",
      "NW_020523459.1\t2.37269\n",
      "NC_039299.1\t2.30222\n",
      "NW_020528142.1\t2.24697\n",
      "NW_020528306.1\t2.13969\n",
      "NC_039295.1\t2.12586\n",
      "NW_020528079.1\t2.09924\n",
      "NW_020527582.1\t2.0824\n",
      "NW_020523394.1\t1.85786\n",
      "NW_020527496.1\t1.763\n",
      "NW_020527719.1\t1.68798\n",
      "NW_020528362.1\t1.66997\n",
      "NW_020523497.1\t1.54327\n",
      "NW_020527593.1\t1.53652\n",
      "NW_020523543.1\t1.51787\n",
      "NW_020527617.1\t1.44855\n",
      "NW_020527513.1\t1.41626\n",
      "NW_020524006.1\t1.38828\n",
      "NW_020527982.1\t1.38396\n",
      "NC_039301.1\t1.38115\n",
      "NW_020524440.1\t1.37626\n",
      "NW_020528076.1\t1.37015\n",
      "NW_020528624.1\t1.34063\n",
      "NW_020527558.1\t1.32169\n",
      "NW_020523604.1\t1.29006\n",
      "NW_020528251.1\t1.25489\n",
      "NW_020527851.1\t1.2253\n",
      "NW_020524730.1\t1.20193\n",
      "NW_020528631.1\t1.20031\n",
      "NW_020528572.1\t1.19938\n",
      "NW_020527754.1\t1.15682\n",
      "NW_020523328.1\t1.15678\n",
      "NW_020523535.1\t1.13841\n",
      "NW_020523344.1\t1.1203\n",
      "NW_020524735.1\t1.10864\n",
      "NW_020524488.1\t1.10135\n",
      "NW_020524189.1\t1.10108\n",
      "NW_020524479.1\t1.07245\n",
      "NW_020527673.1\t1.07113\n",
      "NW_020527643.1\t1.02804\n"
     ]
    }
   ],
   "source": [
    "#List the scaffolds whose sizes are greater than 1 Mb\n",
    "bioawk -c fastx  'length($seq) > (10^6){print $name, length($seq)/(10^6)}' GCF_003368295.1_ASM336829v1_genomic.fna | sort -k2nr "
   ]
  },
  {
   "cell_type": "code",
   "execution_count": 11,
   "metadata": {},
   "outputs": [
    {
     "name": "stdout",
     "output_type": "stream",
     "text": [
      "1342.12\n"
     ]
    }
   ],
   "source": [
    "#Sum of lengthes of scaffolds whose sizes are greater than 1 Mb\n",
    "bioawk -c fastx 'BEGIN{SUM=0}length($seq)>(10^6){SUM += length($seq)}END{print SUM/(10^6)}' GCF_003368295.1_ASM336829v1_genomic.fna | sort -k2nr "
   ]
  },
  {
   "cell_type": "code",
   "execution_count": 22,
   "metadata": {},
   "outputs": [
    {
     "name": "stdout",
     "output_type": "stream",
     "text": [
      "73.7\n"
     ]
    }
   ],
   "source": [
    "#Parcentage of scaffolds whose sizes are greater than 1 Mb to the total genome size\n",
    "echo \"scale=1; 100*1342.12/1820.64\" | bc"
   ]
  },
  {
   "cell_type": "code",
   "execution_count": null,
   "metadata": {},
   "outputs": [],
   "source": []
  }
 ],
 "metadata": {
  "kernelspec": {
   "display_name": "Bash",
   "language": "bash",
   "name": "bash"
  },
  "language_info": {
   "codemirror_mode": "shell",
   "file_extension": ".sh",
   "mimetype": "text/x-sh",
   "name": "bash"
  }
 },
 "nbformat": 4,
 "nbformat_minor": 2
}
