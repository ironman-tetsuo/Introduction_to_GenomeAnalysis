{
 "cells": [
  {
   "cell_type": "markdown",
   "metadata": {},
   "source": [
    "# Genome sequence analysis using Bash"
   ]
  },
  {
   "cell_type": "markdown",
   "metadata": {},
   "source": [
    "### Download the goldfish reference genome"
   ]
  },
  {
   "cell_type": "code",
   "execution_count": null,
   "metadata": {
    "scrolled": true
   },
   "outputs": [
    {
     "name": "stdout",
     "output_type": "stream",
     "text": [
      "Trying 2607:f220:41e:250::13...\n",
      "Connected to ftp.wip.ncbi.nlm.nih.gov.\n",
      "220-\n",
      " This warning banner provides privacy and security notices consistent with \n",
      " applicable federal laws, directives, and other federal guidance for accessing \n",
      " this Government system, which includes all devices/storage media attached to \n",
      " this system. This system is provided for Government-authorized use only. \n",
      " Unauthorized or improper use of this system is prohibited and may result in \n",
      " disciplinary action and/or civil and criminal penalties. At any time, and for \n",
      " any lawful Government purpose, the government may monitor, record, and audit \n",
      " your system usage and/or intercept, search and seize any communication or data \n",
      " transiting or stored on this system. Therefore, you have no reasonable \n",
      " expectation of privacy. Any communication or data transiting or stored on this \n",
      " system may be disclosed or used for any lawful Government purpose.\n",
      "220 FTP Server ready.\n",
      "331 Anonymous login ok, send your complete email address as your password\n",
      "230 Anonymous access granted, restrictions apply\n",
      "Remote system type is UNIX.\n",
      "Using binary mode to transfer files.\n",
      "200 Type set to I\n",
      "250 CWD command successful\n",
      "250 CWD command successful\n",
      "250 CWD command successful\n",
      "250 CWD command successful\n",
      "250 CWD command successful\n",
      "250 CWD command successful\n",
      "250 CWD command successful\n",
      "local: GCF_003368295.1_ASM336829v1_genomic.fna.gz remote: GCF_003368295.1_ASM336829v1_genomic.fna.gz\n",
      "229 Entering Extended Passive Mode (|||50056|)\n",
      "150 Opening BINARY mode data connection for GCF_003368295.1_ASM336829v1_genomic.fna.gz (568951114 bytes)\n"
     ]
    }
   ],
   "source": [
    "ftp ftp://ftp.ncbi.nlm.nih.gov/genomes/all/GCF/003/368/295/GCF_003368295.1_ASM336829v1/GCF_003368295.1_ASM336829v1_genomic.fna.gz"
   ]
  },
  {
   "cell_type": "markdown",
   "metadata": {},
   "source": [
    "### Count the number of scaffolds using shell commands"
   ]
  },
  {
   "cell_type": "code",
   "execution_count": 1,
   "metadata": {},
   "outputs": [
    {
     "name": "stdout",
     "output_type": "stream",
     "text": [
      "GCF_003368295.1_ASM336829v1_genomic.fna.gz\n",
      "bash.ipynb\n"
     ]
    }
   ],
   "source": [
    "#Count using plain shell script\n",
    "ls"
   ]
  },
  {
   "cell_type": "code",
   "execution_count": 1,
   "metadata": {},
   "outputs": [],
   "source": [
    "#Decompress the genome sequence file\n",
    "gunzip GCF_003368295.1_ASM336829v1_genomic.fna.gz"
   ]
  },
  {
   "cell_type": "code",
   "execution_count": 2,
   "metadata": {},
   "outputs": [
    {
     "name": "stdout",
     "output_type": "stream",
     "text": [
      "GCF_003368295.1_ASM336829v1_genomic.fna\tbash.ipynb\n"
     ]
    }
   ],
   "source": [
    "#Show the list of files\n",
    "ls"
   ]
  },
  {
   "cell_type": "code",
   "execution_count": 4,
   "metadata": {},
   "outputs": [
    {
     "name": "stdout",
     "output_type": "stream",
     "text": [
      ">NC_039243.1 Carassius auratus strain Wakin chromosome 1, ASM336829v1, whole genome shotgun sequence\n",
      ">NC_039244.1 Carassius auratus strain Wakin chromosome 2, ASM336829v1, whole genome shotgun sequence\n",
      ">NC_039245.1 Carassius auratus strain Wakin chromosome 3, ASM336829v1, whole genome shotgun sequence\n",
      ">NC_039246.1 Carassius auratus strain Wakin chromosome 4, ASM336829v1, whole genome shotgun sequence\n",
      ">NC_039247.1 Carassius auratus strain Wakin chromosome 5, ASM336829v1, whole genome shotgun sequence\n"
     ]
    }
   ],
   "source": [
    "grep \"^>\" GCF_003368295.1_ASM336829v1_genomic.fna | head -n 5"
   ]
  },
  {
   "cell_type": "code",
   "execution_count": 5,
   "metadata": {},
   "outputs": [
    {
     "name": "stdout",
     "output_type": "stream",
     "text": [
      "    6216\n"
     ]
    }
   ],
   "source": [
    "grep \"^>\" GCF_003368295.1_ASM336829v1_genomic.fna | wc -l"
   ]
  },
  {
   "cell_type": "markdown",
   "metadata": {},
   "source": [
    "### Count the number of scaffolds using bioawk"
   ]
  },
  {
   "cell_type": "code",
   "execution_count": 7,
   "metadata": {},
   "outputs": [
    {
     "name": "stdout",
     "output_type": "stream",
     "text": [
      "NC_039243.1\n",
      "NC_039244.1\n",
      "NC_039245.1\n",
      "NC_039246.1\n",
      "NC_039247.1\n"
     ]
    }
   ],
   "source": [
    "bioawk -c fastx  '{print $name}' GCF_003368295.1_ASM336829v1_genomic.fna | head -n 5"
   ]
  },
  {
   "cell_type": "code",
   "execution_count": 8,
   "metadata": {},
   "outputs": [
    {
     "name": "stdout",
     "output_type": "stream",
     "text": [
      "    6216\n"
     ]
    }
   ],
   "source": [
    "bioawk -c fastx  '{print $name}' GCF_003368295.1_ASM336829v1_genomic.fna | wc -l"
   ]
  },
  {
   "cell_type": "code",
   "execution_count": null,
   "metadata": {},
   "outputs": [],
   "source": []
  }
 ],
 "metadata": {
  "kernelspec": {
   "display_name": "Bash",
   "language": "bash",
   "name": "bash"
  },
  "language_info": {
   "codemirror_mode": "shell",
   "file_extension": ".sh",
   "mimetype": "text/x-sh",
   "name": "bash"
  }
 },
 "nbformat": 4,
 "nbformat_minor": 2
}
