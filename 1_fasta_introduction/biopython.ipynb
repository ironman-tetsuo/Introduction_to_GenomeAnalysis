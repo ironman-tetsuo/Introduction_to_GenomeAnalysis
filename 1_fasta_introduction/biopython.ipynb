{
 "cells": [
  {
   "cell_type": "code",
   "execution_count": 6,
   "metadata": {},
   "outputs": [],
   "source": [
    "#Import packages\n",
    "import os\n",
    "from Bio import SeqIO\n",
    "from Bio import Entrez"
   ]
  },
  {
   "cell_type": "markdown",
   "metadata": {},
   "source": [
    "# Download data and save"
   ]
  },
  {
   "cell_type": "code",
   "execution_count": 7,
   "metadata": {},
   "outputs": [],
   "source": [
    "#Declare variables\n",
    "#E-mail\n",
    "Entrez.email = \"hoge@example.com\"\n",
    "#Goldfish chordin transcript\n",
    "ID = \"XM_026255215.1\""
   ]
  },
  {
   "cell_type": "code",
   "execution_count": null,
   "metadata": {},
   "outputs": [],
   "source": [
    "#If the file is not present, the trnascript sequence file will be download and saved as a genbank format file\n",
    "if not os.path.isfile(ID + \".gb\"):\n",
    "    # Downloading...\n",
    "    net_handle = Entrez.efetch(db=\"nucleotide\", id=ID, rettype=\"gb\", retmode=\"text\")\n",
    "    out_handle = open(ID + \".gb\", \"w\")\n",
    "    out_handle.write(net_handle.read())\n",
    "    out_handle.close()\n",
    "    net_handle.close()\n",
    "    print(\"Saved\")\n",
    "else:\n",
    "    print(\"The file %s is present.\" % ID + \".gb\")"
   ]
  },
  {
   "cell_type": "markdown",
   "metadata": {},
   "source": [
    "# Load the save file"
   ]
  },
  {
   "cell_type": "code",
   "execution_count": 8,
   "metadata": {},
   "outputs": [
    {
     "name": "stdout",
     "output_type": "stream",
     "text": [
      "Parsing...\n"
     ]
    }
   ],
   "source": [
    "print(\"Parsing...\")\n",
    "record = SeqIO.read(ID + \".gb\", \"genbank\")"
   ]
  },
  {
   "cell_type": "markdown",
   "metadata": {},
   "source": [
    "# Briefly check the structure of the object"
   ]
  },
  {
   "cell_type": "code",
   "execution_count": 9,
   "metadata": {},
   "outputs": [
    {
     "data": {
      "text/plain": [
       "Bio.SeqRecord.SeqRecord"
      ]
     },
     "execution_count": 9,
     "metadata": {},
     "output_type": "execute_result"
    }
   ],
   "source": [
    "type(record)"
   ]
  },
  {
   "cell_type": "code",
   "execution_count": 10,
   "metadata": {},
   "outputs": [
    {
     "data": {
      "text/plain": [
       "SeqRecord(seq=Seq('ACGACTCACACTCGCTGAGACACATCGGGGAGAACCTCACTCTGTTTATTTGGT...TGT', IUPACAmbiguousDNA()), id='XM_026255215.1', name='XM_026255215', description='PREDICTED: Carassius auratus chordin (LOC113085615), mRNA', dbxrefs=['BioProject:PRJNA487739'])"
      ]
     },
     "execution_count": 10,
     "metadata": {},
     "output_type": "execute_result"
    }
   ],
   "source": [
    "record"
   ]
  },
  {
   "cell_type": "code",
   "execution_count": 7,
   "metadata": {},
   "outputs": [
    {
     "name": "stdout",
     "output_type": "stream",
     "text": [
      "ID: XM_026255215.1\n",
      "Name: XM_026255215\n",
      "Description: PREDICTED: Carassius auratus chordin (LOC113085615), mRNA\n",
      "Database cross-references: BioProject:PRJNA487739\n",
      "Number of features: 3\n",
      "/molecule_type=mRNA\n",
      "/topology=linear\n",
      "/data_file_division=VRT\n",
      "/date=04-SEP-2018\n",
      "/accessions=['XM_026255215']\n",
      "/sequence_version=1\n",
      "/keywords=['RefSeq']\n",
      "/source=Carassius auratus (goldfish)\n",
      "/organism=Carassius auratus\n",
      "/taxonomy=['Eukaryota', 'Metazoa', 'Chordata', 'Craniata', 'Vertebrata', 'Euteleostomi', 'Actinopterygii', 'Neopterygii', 'Teleostei', 'Ostariophysi', 'Cypriniformes', 'Cyprinidae', 'Carassius']\n",
      "/comment=MODEL REFSEQ:  This record is predicted by automated computational\n",
      "analysis. This record is derived from a genomic sequence\n",
      "(NW_020526691.1) annotated using gene prediction method: Gnomon.\n",
      "Also see:\n",
      "    Documentation of NCBI's Annotation Process\n",
      "                               100\n",
      "                               pipeline\n",
      "/structured_comment=OrderedDict([('Genome-Annotation-Data', OrderedDict([('Annotation Provider', 'NCBI'), ('Annotation Status', 'Full annotation'), ('Annotation Name', 'Carassius auratus Annotation Release'), ('Annotation Version', '100'), ('Annotation Pipeline', 'NCBI eukaryotic genome annotation'), ('Annotation Software Version', '8.1'), ('Annotation Method', 'Best-placed RefSeq; Gnomon'), ('Features Annotated', 'Gene; mRNA; CDS; ncRNA')]))])\n",
      "Seq('ACGACTCACACTCGCTGAGACACATCGGGGAGAACCTCACTCTGTTTATTTGGT...TGT', IUPACAmbiguousDNA())\n"
     ]
    }
   ],
   "source": [
    "print(record)"
   ]
  },
  {
   "cell_type": "markdown",
   "metadata": {},
   "source": [
    "# Extract CDS sequences"
   ]
  },
  {
   "cell_type": "code",
   "execution_count": 11,
   "metadata": {},
   "outputs": [
    {
     "data": {
      "text/plain": [
       "[SeqFeature(FeatureLocation(ExactPosition(0), ExactPosition(3636), strand=1), type='source'),\n",
       " SeqFeature(FeatureLocation(ExactPosition(0), ExactPosition(3636), strand=1), type='gene'),\n",
       " SeqFeature(FeatureLocation(ExactPosition(103), ExactPosition(2935), strand=1), type='CDS')]"
      ]
     },
     "execution_count": 11,
     "metadata": {},
     "output_type": "execute_result"
    }
   ],
   "source": [
    "record.features"
   ]
  },
  {
   "cell_type": "code",
   "execution_count": 12,
   "metadata": {},
   "outputs": [
    {
     "data": {
      "text/plain": [
       "list"
      ]
     },
     "execution_count": 12,
     "metadata": {},
     "output_type": "execute_result"
    }
   ],
   "source": [
    "type(record.features)"
   ]
  },
  {
   "cell_type": "code",
   "execution_count": 13,
   "metadata": {},
   "outputs": [
    {
     "data": {
      "text/plain": [
       "SeqFeature(FeatureLocation(ExactPosition(103), ExactPosition(2935), strand=1), type='CDS')"
      ]
     },
     "execution_count": 13,
     "metadata": {},
     "output_type": "execute_result"
    }
   ],
   "source": [
    "record.features[2]"
   ]
  },
  {
   "cell_type": "code",
   "execution_count": 14,
   "metadata": {},
   "outputs": [
    {
     "data": {
      "text/plain": [
       "Bio.SeqFeature.SeqFeature"
      ]
     },
     "execution_count": 14,
     "metadata": {},
     "output_type": "execute_result"
    }
   ],
   "source": [
    "type(record.features[2])"
   ]
  },
  {
   "cell_type": "code",
   "execution_count": 15,
   "metadata": {},
   "outputs": [
    {
     "data": {
      "text/plain": [
       "method"
      ]
     },
     "execution_count": 15,
     "metadata": {},
     "output_type": "execute_result"
    }
   ],
   "source": [
    "type(record.features[2].extract)"
   ]
  },
  {
   "cell_type": "code",
   "execution_count": 16,
   "metadata": {},
   "outputs": [
    {
     "data": {
      "text/plain": [
       "Seq('ATGGAGGCGTCGCGAGCTCTGTGGATTCTGTGCTGCGCGTTCCTCGCGTCGGCT...TGA', IUPACAmbiguousDNA())"
      ]
     },
     "execution_count": 16,
     "metadata": {},
     "output_type": "execute_result"
    }
   ],
   "source": [
    "record.features[2].extract(record.seq)"
   ]
  },
  {
   "cell_type": "code",
   "execution_count": 17,
   "metadata": {},
   "outputs": [],
   "source": [
    "#Search features whose type is 'CDS', and retrieve sequence from parental DNA sequence\n",
    "for feature in record.features:\n",
    "    if feature.type == 'CDS':\n",
    "        seq_cds = feature.location.extract(record.seq)"
   ]
  },
  {
   "cell_type": "code",
   "execution_count": 18,
   "metadata": {},
   "outputs": [
    {
     "data": {
      "text/plain": [
       "Seq('ATGGAGGCGTCGCGAGCTCTGTGGATTCTGTGCTGCGCGTTCCTCGCGTCGGCT...TGA', IUPACAmbiguousDNA())"
      ]
     },
     "execution_count": 18,
     "metadata": {},
     "output_type": "execute_result"
    }
   ],
   "source": [
    "seq_cds"
   ]
  },
  {
   "cell_type": "code",
   "execution_count": 19,
   "metadata": {},
   "outputs": [
    {
     "data": {
      "text/plain": [
       "Bio.Seq.Seq"
      ]
     },
     "execution_count": 19,
     "metadata": {},
     "output_type": "execute_result"
    }
   ],
   "source": [
    "type(seq_cds)"
   ]
  },
  {
   "cell_type": "markdown",
   "metadata": {},
   "source": [
    "# Basic sequene analysis for the cds"
   ]
  },
  {
   "cell_type": "code",
   "execution_count": 26,
   "metadata": {},
   "outputs": [
    {
     "name": "stdout",
     "output_type": "stream",
     "text": [
      "ATGGAGGCGTCGCGAGCTCTGTGGATTCTGTGCTGCGCGTTCCTCGCGTCGGCTTTGGGCTCGAGACTCAAGACCCCCGCGTTACCCATCCAACCCGAGAGGGAACCCATGATCTCTAAAGGCTTATCCGGTTGCTCCTTCGGTGGCCGCTTTTATTCGCTGGAAGACACGTGGCATCCAGATCTCGGAGAGCCGTTCGGTGTGATGCACTGCGTTATGTGTCACTGCGAGCCGCAGAGGAGCCGGCGAGGGAAGGTGTTTGGGAAGGTGAGCTGCAGGAATATGAAACAGGACTGTCCCGATCCGACCTGCGACGATCCCGTCTTGCTTCCAGGACACTGCTGCAAAACATGCCCAAAAGGCAACTCAGGGAAAAAGGAGGTGGAGTCTCTGTTTGAGTTCTTCCAGGAGAAAGATGACGACCTGCACAAGTCTTACAACGACAGATCCTACATCAGCTCTGAGGAGAACAGCAACCGAGACAGCGCTGCCGATTTTGTGGCTGTACTCACGGGCGTGACAGACTCGTGGCTGCCGAGCTCCAGCGGCGTCGCACGGGCACGATTCACACTCGCTCGAACGAGCCTGACCTTCTCTATCACCTTCCAGAGGATGAACAGGCCGAGCCTCATCACGTTCCTGGACTCTGATGGAAACACAGCGTTTGAGTTCAGAGTACCACTGGCGGATACAGACATGATCTGTGGAGTTTGGAGGAACCTGCCAAAGTCTCACCTGCGTCAGCTGGAGGCGGAGCAGCTGCATGTTTCCATGACAACCGCTGACAACAAGAAGGAGGAGATACAGGGCAAAATCATCAAACACCGAGCGCTGTTCGCAGAAACGTTCAGCGCGATCCTGACGTCTGACGAGGTGCATTCTGGGATGGGAGGAATCGCAATGTTGACGCTCAGTGACACGGAAAACAATCTGCATTTCATCCTGATCCTGCAGGGACTCGTTTCTCACGGGAGCTCTTCTGTAAAGGTGCCAGTCCGAGTGAAACTGCTGTACCGACAGCATCTGCTGAGAGAAATACAAGCAAACATCTCTGCAGATGACTCTGACTTGGCTGAAGTCCTGGCCGATCTGAACAGTCGTGAACTCTTCTGGTTGTCCCGCGGACAGCTGCAGATCTCGGTGGAAACAGAAGGTCAAAACTCTCGTCAGGTCTCCGGATTCATTTCTGGCAAGAGATCATGTGACACTCTTCAGAGTGTGATGTCCAGTGGTTCTGCACTGACTCCTGGGAAAACGGGCGGCGTCGGGTCAGCCGTCTTCACCCTCCATCACAACGGCTCGCTCGACTTCCAGGTCCTGGTGGCGGGTTTGAGCAGCGCGGTGGTCGGTGTGACGATCGAGATGAAGCCGCGGCGGCGCAGTAAACGCAGCGTGCTGTACGACATCACCGCAGATTTCTCCACAGCGGGCGAGCGCGGCGGCGGACGAGCGATGGGAAGCTGTGGTCGGGTCGAGGCCAGACACATCCACATGCTTCTGCAGAACGAACTGTTCATTAACATCGCCACGGCCGAGCAGCAGGAGAGCGAACTGCGTGGACAGATACGAATGCTGCCTTACAACGGACTGGACGCACGCCGAAACGAGCTTCCGGTTCCTCTGGCGGGTCAGTTTGTGTCTCCTCCTGTCCGTACGGGTGCAGCGGGTCACGCCTGGGTCTCGGTGGACGAACAGTGTCATCTGCATTACGAGATCGTCATCAACGGCCTCAGCAATAGCGAAGACACCTCCGTCAACGCCCACCTGCACGGATTGGCCGAGATCGGCGAGATGGACGACTCGTCCACCAATCACAAGAGACTTCTGACTGGCTTCTACGGTCAACAGGCGCAGGGTGTGTTGAAAGATATTAGTGTTGAGTTATTGAGGCATTTGGACGAAGGCACTGCTTATATTCAGGTCAGCACCAAAATGAATCCAAGAGGAGAAATACGAGGACGGATTCACGTTCCCAACAGCTGTGAGTTGGGTTCCCGCGGTGAGGTGGTCGAGGAGGCAGAGTTTGATGAACTGGTATTCGTCCGTGACCCGGCCGAGCTGAGGAAAGACCCGCACACGTGCTTCTTTGAGGGAGAACATCATGCACATGGGTCTCAGTGGACACCTCAGTACAACACCTGCTTTACCTGCATCTGCCAGAAGAAGACAGTGATCTGTGATCCTGTGATCTGTCCTGCGCTCTCATGTCCTCACACCATCCAGCCTGAAGACCAGTGCTGTCCCATCTGTGATGAAAAGAAAGAATCCAAACAGACGACAGCAGTAGAAAAAGTTGAGGAAGATCCAGAAGGCTGTTATTTCGAAGGTGATCAGAAAATGCATGCACCTGGCACAACATGGCATCCGTTCGTCCCGCCATTTGGCTACATTAAGTGTGCTGTGTGTACCTGCAAGGGCTCCACAGGAGAAGTGCACTGCGAGAAGCTGACGTGCCCGCCTCTCACCTGCAGCCGACCAATCAGACGCAACCCTTCAGACTGCTGTAAGGAGTGTCCTGCGGAAGACACACCCCCTCTGGAGGACGATGAAATGATGCAGGCAGACGGGACACGGCACTGCAAGTTTGGCGATAACTACTACCAGAATAGTGAACACTGGCACCCTCGTGTTCCACTGGTGGGAGAAATGAAGTGCATTACCTGCTGGTGTGATCATGGCGTCACAAAGTGCCAGAAAAAGCAGTGCCCATTGTTGAGTTGCAGTAACCCCATTCGGAGAGAAGGAAAATGCTGTCCTGAATGCATAGAGGACTTCATGGAAAAAGAAGAAATGGCAAAAATGGTGGAGAAAAAGAAAAACTGGAGACACTGA\n"
     ]
    }
   ],
   "source": [
    "print(seq_cds)"
   ]
  },
  {
   "cell_type": "code",
   "execution_count": 28,
   "metadata": {},
   "outputs": [
    {
     "name": "stdout",
     "output_type": "stream",
     "text": [
      "2832\n"
     ]
    }
   ],
   "source": [
    "#Sequence length\n",
    "print(len(seq_cds))"
   ]
  },
  {
   "cell_type": "code",
   "execution_count": 31,
   "metadata": {},
   "outputs": [
    {
     "name": "stdout",
     "output_type": "stream",
     "text": [
      "MEASRALWILCCAFLASALGSRLKTPALPIQPEREPMISKGLSGCSFGGRFYSLEDTWHPDLGEPFGVMHCVMCHCEPQRSRRGKVFGKVSCRNMKQDCPDPTCDDPVLLPGHCCKTCPKGNSGKKEVESLFEFFQEKDDDLHKSYNDRSYISSEENSNRDSAADFVAVLTGVTDSWLPSSSGVARARFTLARTSLTFSITFQRMNRPSLITFLDSDGNTAFEFRVPLADTDMICGVWRNLPKSHLRQLEAEQLHVSMTTADNKKEEIQGKIIKHRALFAETFSAILTSDEVHSGMGGIAMLTLSDTENNLHFILILQGLVSHGSSSVKVPVRVKLLYRQHLLREIQANISADDSDLAEVLADLNSRELFWLSRGQLQISVETEGQNSRQVSGFISGKRSCDTLQSVMSSGSALTPGKTGGVGSAVFTLHHNGSLDFQVLVAGLSSAVVGVTIEMKPRRRSKRSVLYDITADFSTAGERGGGRAMGSCGRVEARHIHMLLQNELFINIATAEQQESELRGQIRMLPYNGLDARRNELPVPLAGQFVSPPVRTGAAGHAWVSVDEQCHLHYEIVINGLSNSEDTSVNAHLHGLAEIGEMDDSSTNHKRLLTGFYGQQAQGVLKDISVELLRHLDEGTAYIQVSTKMNPRGEIRGRIHVPNSCELGSRGEVVEEAEFDELVFVRDPAELRKDPHTCFFEGEHHAHGSQWTPQYNTCFTCICQKKTVICDPVICPALSCPHTIQPEDQCCPICDEKKESKQTTAVEKVEEDPEGCYFEGDQKMHAPGTTWHPFVPPFGYIKCAVCTCKGSTGEVHCEKLTCPPLTCSRPIRRNPSDCCKECPAEDTPPLEDDEMMQADGTRHCKFGDNYYQNSEHWHPRVPLVGEMKCITCWCDHGVTKCQKKQCPLLSCSNPIRREGKCCPECIEDFMEKEEMAKMVEKKKNWRH*\n"
     ]
    }
   ],
   "source": [
    "#Translation\n",
    "print(seq_cds.translate())"
   ]
  },
  {
   "cell_type": "code",
   "execution_count": 36,
   "metadata": {},
   "outputs": [
    {
     "data": {
      "text/plain": [
       "944"
      ]
     },
     "execution_count": 36,
     "metadata": {},
     "output_type": "execute_result"
    }
   ],
   "source": [
    "len(seq_cds.translate())"
   ]
  },
  {
   "cell_type": "code",
   "execution_count": null,
   "metadata": {},
   "outputs": [],
   "source": []
  }
 ],
 "metadata": {
  "kernelspec": {
   "display_name": "Python 3",
   "language": "python",
   "name": "python3"
  },
  "language_info": {
   "codemirror_mode": {
    "name": "ipython",
    "version": 3
   },
   "file_extension": ".py",
   "mimetype": "text/x-python",
   "name": "python",
   "nbconvert_exporter": "python",
   "pygments_lexer": "ipython3",
   "version": "3.7.3"
  }
 },
 "nbformat": 4,
 "nbformat_minor": 2
}
