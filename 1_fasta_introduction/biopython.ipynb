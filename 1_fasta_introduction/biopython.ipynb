{
 "cells": [
  {
   "cell_type": "markdown",
   "metadata": {},
   "source": [
    "# Brief introduction to sequence analysis using biopython\n",
    "Here, I show you how to use biopython for sequence analysis   \n",
    "As an example, I use goldfish chordin sequence (XM_026255215.1)."
   ]
  },
  {
   "cell_type": "code",
   "execution_count": 6,
   "metadata": {},
   "outputs": [],
   "source": [
    "#Import packages\n",
    "import os\n",
    "from Bio import SeqIO\n",
    "from Bio import Entrez"
   ]
  },
  {
   "cell_type": "markdown",
   "metadata": {},
   "source": [
    "# Download data and save as a genbank file"
   ]
  },
  {
   "cell_type": "code",
   "execution_count": 7,
   "metadata": {},
   "outputs": [],
   "source": [
    "#Declare variables\n",
    "#E-mail\n",
    "Entrez.email = \"hoge@example.com\"\n",
    "#Goldfish chordin transcript\n",
    "ID = \"XM_026255215.1\""
   ]
  },
  {
   "cell_type": "code",
   "execution_count": null,
   "metadata": {},
   "outputs": [],
   "source": [
    "#If the file is not present, the trnascript sequence file will be download and saved as a genbank format file\n",
    "if not os.path.isfile(ID + \".gb\"):\n",
    "    # Downloading...\n",
    "    net_handle = Entrez.efetch(db=\"nucleotide\", id=ID, rettype=\"gb\", retmode=\"text\")\n",
    "    out_handle = open(ID + \".gb\", \"w\")\n",
    "    out_handle.write(net_handle.read())\n",
    "    out_handle.close()\n",
    "    net_handle.close()\n",
    "    print(\"Saved\")\n",
    "else:\n",
    "    print(\"The file %s is present.\" % ID + \".gb\")"
   ]
  },
  {
   "cell_type": "markdown",
   "metadata": {},
   "source": [
    "# Load the saved file and make a SeqRecod object"
   ]
  },
  {
   "cell_type": "code",
   "execution_count": 8,
   "metadata": {},
   "outputs": [
    {
     "name": "stdout",
     "output_type": "stream",
     "text": [
      "Parsing...\n"
     ]
    }
   ],
   "source": [
    "print(\"Parsing...\")\n",
    "record = SeqIO.read(ID + \".gb\", \"genbank\")"
   ]
  },
  {
   "cell_type": "markdown",
   "metadata": {},
   "source": [
    "# Briefly check the structure of the object"
   ]
  },
  {
   "cell_type": "code",
   "execution_count": 9,
   "metadata": {},
   "outputs": [
    {
     "data": {
      "text/plain": [
       "Bio.SeqRecord.SeqRecord"
      ]
     },
     "execution_count": 9,
     "metadata": {},
     "output_type": "execute_result"
    }
   ],
   "source": [
    "type(record)"
   ]
  },
  {
   "cell_type": "code",
   "execution_count": 10,
   "metadata": {},
   "outputs": [
    {
     "data": {
      "text/plain": [
       "SeqRecord(seq=Seq('ACGACTCACACTCGCTGAGACACATCGGGGAGAACCTCACTCTGTTTATTTGGT...TGT', IUPACAmbiguousDNA()), id='XM_026255215.1', name='XM_026255215', description='PREDICTED: Carassius auratus chordin (LOC113085615), mRNA', dbxrefs=['BioProject:PRJNA487739'])"
      ]
     },
     "execution_count": 10,
     "metadata": {},
     "output_type": "execute_result"
    }
   ],
   "source": [
    "record"
   ]
  },
  {
   "cell_type": "code",
   "execution_count": 7,
   "metadata": {},
   "outputs": [
    {
     "name": "stdout",
     "output_type": "stream",
     "text": [
      "ID: XM_026255215.1\n",
      "Name: XM_026255215\n",
      "Description: PREDICTED: Carassius auratus chordin (LOC113085615), mRNA\n",
      "Database cross-references: BioProject:PRJNA487739\n",
      "Number of features: 3\n",
      "/molecule_type=mRNA\n",
      "/topology=linear\n",
      "/data_file_division=VRT\n",
      "/date=04-SEP-2018\n",
      "/accessions=['XM_026255215']\n",
      "/sequence_version=1\n",
      "/keywords=['RefSeq']\n",
      "/source=Carassius auratus (goldfish)\n",
      "/organism=Carassius auratus\n",
      "/taxonomy=['Eukaryota', 'Metazoa', 'Chordata', 'Craniata', 'Vertebrata', 'Euteleostomi', 'Actinopterygii', 'Neopterygii', 'Teleostei', 'Ostariophysi', 'Cypriniformes', 'Cyprinidae', 'Carassius']\n",
      "/comment=MODEL REFSEQ:  This record is predicted by automated computational\n",
      "analysis. This record is derived from a genomic sequence\n",
      "(NW_020526691.1) annotated using gene prediction method: Gnomon.\n",
      "Also see:\n",
      "    Documentation of NCBI's Annotation Process\n",
      "                               100\n",
      "                               pipeline\n",
      "/structured_comment=OrderedDict([('Genome-Annotation-Data', OrderedDict([('Annotation Provider', 'NCBI'), ('Annotation Status', 'Full annotation'), ('Annotation Name', 'Carassius auratus Annotation Release'), ('Annotation Version', '100'), ('Annotation Pipeline', 'NCBI eukaryotic genome annotation'), ('Annotation Software Version', '8.1'), ('Annotation Method', 'Best-placed RefSeq; Gnomon'), ('Features Annotated', 'Gene; mRNA; CDS; ncRNA')]))])\n",
      "Seq('ACGACTCACACTCGCTGAGACACATCGGGGAGAACCTCACTCTGTTTATTTGGT...TGT', IUPACAmbiguousDNA())\n"
     ]
    }
   ],
   "source": [
    "print(record)"
   ]
  },
  {
   "cell_type": "markdown",
   "metadata": {},
   "source": [
    "# Extract CDS sequences as a Seq object"
   ]
  },
  {
   "cell_type": "code",
   "execution_count": 11,
   "metadata": {},
   "outputs": [
    {
     "data": {
      "text/plain": [
       "[SeqFeature(FeatureLocation(ExactPosition(0), ExactPosition(3636), strand=1), type='source'),\n",
       " SeqFeature(FeatureLocation(ExactPosition(0), ExactPosition(3636), strand=1), type='gene'),\n",
       " SeqFeature(FeatureLocation(ExactPosition(103), ExactPosition(2935), strand=1), type='CDS')]"
      ]
     },
     "execution_count": 11,
     "metadata": {},
     "output_type": "execute_result"
    }
   ],
   "source": [
    "record.features"
   ]
  },
  {
   "cell_type": "code",
   "execution_count": 12,
   "metadata": {},
   "outputs": [
    {
     "data": {
      "text/plain": [
       "list"
      ]
     },
     "execution_count": 12,
     "metadata": {},
     "output_type": "execute_result"
    }
   ],
   "source": [
    "type(record.features)"
   ]
  },
  {
   "cell_type": "code",
   "execution_count": 13,
   "metadata": {},
   "outputs": [
    {
     "data": {
      "text/plain": [
       "SeqFeature(FeatureLocation(ExactPosition(103), ExactPosition(2935), strand=1), type='CDS')"
      ]
     },
     "execution_count": 13,
     "metadata": {},
     "output_type": "execute_result"
    }
   ],
   "source": [
    "record.features[2]"
   ]
  },
  {
   "cell_type": "code",
   "execution_count": 14,
   "metadata": {},
   "outputs": [
    {
     "data": {
      "text/plain": [
       "Bio.SeqFeature.SeqFeature"
      ]
     },
     "execution_count": 14,
     "metadata": {},
     "output_type": "execute_result"
    }
   ],
   "source": [
    "type(record.features[2])"
   ]
  },
  {
   "cell_type": "code",
   "execution_count": 15,
   "metadata": {},
   "outputs": [
    {
     "data": {
      "text/plain": [
       "method"
      ]
     },
     "execution_count": 15,
     "metadata": {},
     "output_type": "execute_result"
    }
   ],
   "source": [
    "type(record.features[2].extract)"
   ]
  },
  {
   "cell_type": "code",
   "execution_count": 16,
   "metadata": {},
   "outputs": [
    {
     "data": {
      "text/plain": [
       "Seq('ATGGAGGCGTCGCGAGCTCTGTGGATTCTGTGCTGCGCGTTCCTCGCGTCGGCT...TGA', IUPACAmbiguousDNA())"
      ]
     },
     "execution_count": 16,
     "metadata": {},
     "output_type": "execute_result"
    }
   ],
   "source": [
    "record.features[2].extract(record.seq)"
   ]
  },
  {
   "cell_type": "code",
   "execution_count": 17,
   "metadata": {},
   "outputs": [],
   "source": [
    "#Search features whose type is 'CDS', and retrieve sequence from parental DNA sequence\n",
    "for feature in record.features:\n",
    "    if feature.type == 'CDS':\n",
    "        seq_cds = feature.location.extract(record.seq)"
   ]
  },
  {
   "cell_type": "code",
   "execution_count": 18,
   "metadata": {},
   "outputs": [
    {
     "data": {
      "text/plain": [
       "Seq('ATGGAGGCGTCGCGAGCTCTGTGGATTCTGTGCTGCGCGTTCCTCGCGTCGGCT...TGA', IUPACAmbiguousDNA())"
      ]
     },
     "execution_count": 18,
     "metadata": {},
     "output_type": "execute_result"
    }
   ],
   "source": [
    "seq_cds"
   ]
  },
  {
   "cell_type": "code",
   "execution_count": 19,
   "metadata": {},
   "outputs": [
    {
     "data": {
      "text/plain": [
       "Bio.Seq.Seq"
      ]
     },
     "execution_count": 19,
     "metadata": {},
     "output_type": "execute_result"
    }
   ],
   "source": [
    "type(seq_cds)"
   ]
  },
  {
   "cell_type": "code",
   "execution_count": 40,
   "metadata": {},
   "outputs": [
    {
     "data": {
      "text/plain": [
       "IUPACAmbiguousDNA()"
      ]
     },
     "execution_count": 40,
     "metadata": {},
     "output_type": "execute_result"
    }
   ],
   "source": [
    "seq_cds.alphabet"
   ]
  },
  {
   "cell_type": "markdown",
   "metadata": {},
   "source": [
    "# Basic sequene analysis for the cds"
   ]
  },
  {
   "cell_type": "markdown",
   "metadata": {},
   "source": [
    "#### Direct translation of cds into protein sequence"
   ]
  },
  {
   "cell_type": "code",
   "execution_count": 53,
   "metadata": {},
   "outputs": [
    {
     "name": "stdout",
     "output_type": "stream",
     "text": [
      "ATGGAGGCGTCGCGAGCTCTGTGGATTCTGTGCTGCGCGTTCCTCGCGTCGGCTTTGGGCTCGAGACTCAAGACCCCCGCGTTACCCATCCAACCCGAGAGGGAACCCATGATCTCTAAAGGCTTATCCGGTTGCTCCTTCGGTGGCCGCTTTTATTCGCTGGAAGACACGTGGCATCCAGATCTCGGAGAGCCGTTCGGTGTGATGCACTGCGTTATGTGTCACTGCGAGCCGCAGAGGAGCCGGCGAGGGAAGGTGTTTGGGAAGGTGAGCTGCAGGAATATGAAACAGGACTGTCCCGATCCGACCTGCGACGATCCCGTCTTGCTTCCAGGACACTGCTGCAAAACATGCCCAAAAGGCAACTCAGGGAAAAAGGAGGTGGAGTCTCTGTTTGAGTTCTTCCAGGAGAAAGATGACGACCTGCACAAGTCTTACAACGACAGATCCTACATCAGCTCTGAGGAGAACAGCAACCGAGACAGCGCTGCCGATTTTGTGGCTGTACTCACGGGCGTGACAGACTCGTGGCTGCCGAGCTCCAGCGGCGTCGCACGGGCACGATTCACACTCGCTCGAACGAGCCTGACCTTCTCTATCACCTTCCAGAGGATGAACAGGCCGAGCCTCATCACGTTCCTGGACTCTGATGGAAACACAGCGTTTGAGTTCAGAGTACCACTGGCGGATACAGACATGATCTGTGGAGTTTGGAGGAACCTGCCAAAGTCTCACCTGCGTCAGCTGGAGGCGGAGCAGCTGCATGTTTCCATGACAACCGCTGACAACAAGAAGGAGGAGATACAGGGCAAAATCATCAAACACCGAGCGCTGTTCGCAGAAACGTTCAGCGCGATCCTGACGTCTGACGAGGTGCATTCTGGGATGGGAGGAATCGCAATGTTGACGCTCAGTGACACGGAAAACAATCTGCATTTCATCCTGATCCTGCAGGGACTCGTTTCTCACGGGAGCTCTTCTGTAAAGGTGCCAGTCCGAGTGAAACTGCTGTACCGACAGCATCTGCTGAGAGAAATACAAGCAAACATCTCTGCAGATGACTCTGACTTGGCTGAAGTCCTGGCCGATCTGAACAGTCGTGAACTCTTCTGGTTGTCCCGCGGACAGCTGCAGATCTCGGTGGAAACAGAAGGTCAAAACTCTCGTCAGGTCTCCGGATTCATTTCTGGCAAGAGATCATGTGACACTCTTCAGAGTGTGATGTCCAGTGGTTCTGCACTGACTCCTGGGAAAACGGGCGGCGTCGGGTCAGCCGTCTTCACCCTCCATCACAACGGCTCGCTCGACTTCCAGGTCCTGGTGGCGGGTTTGAGCAGCGCGGTGGTCGGTGTGACGATCGAGATGAAGCCGCGGCGGCGCAGTAAACGCAGCGTGCTGTACGACATCACCGCAGATTTCTCCACAGCGGGCGAGCGCGGCGGCGGACGAGCGATGGGAAGCTGTGGTCGGGTCGAGGCCAGACACATCCACATGCTTCTGCAGAACGAACTGTTCATTAACATCGCCACGGCCGAGCAGCAGGAGAGCGAACTGCGTGGACAGATACGAATGCTGCCTTACAACGGACTGGACGCACGCCGAAACGAGCTTCCGGTTCCTCTGGCGGGTCAGTTTGTGTCTCCTCCTGTCCGTACGGGTGCAGCGGGTCACGCCTGGGTCTCGGTGGACGAACAGTGTCATCTGCATTACGAGATCGTCATCAACGGCCTCAGCAATAGCGAAGACACCTCCGTCAACGCCCACCTGCACGGATTGGCCGAGATCGGCGAGATGGACGACTCGTCCACCAATCACAAGAGACTTCTGACTGGCTTCTACGGTCAACAGGCGCAGGGTGTGTTGAAAGATATTAGTGTTGAGTTATTGAGGCATTTGGACGAAGGCACTGCTTATATTCAGGTCAGCACCAAAATGAATCCAAGAGGAGAAATACGAGGACGGATTCACGTTCCCAACAGCTGTGAGTTGGGTTCCCGCGGTGAGGTGGTCGAGGAGGCAGAGTTTGATGAACTGGTATTCGTCCGTGACCCGGCCGAGCTGAGGAAAGACCCGCACACGTGCTTCTTTGAGGGAGAACATCATGCACATGGGTCTCAGTGGACACCTCAGTACAACACCTGCTTTACCTGCATCTGCCAGAAGAAGACAGTGATCTGTGATCCTGTGATCTGTCCTGCGCTCTCATGTCCTCACACCATCCAGCCTGAAGACCAGTGCTGTCCCATCTGTGATGAAAAGAAAGAATCCAAACAGACGACAGCAGTAGAAAAAGTTGAGGAAGATCCAGAAGGCTGTTATTTCGAAGGTGATCAGAAAATGCATGCACCTGGCACAACATGGCATCCGTTCGTCCCGCCATTTGGCTACATTAAGTGTGCTGTGTGTACCTGCAAGGGCTCCACAGGAGAAGTGCACTGCGAGAAGCTGACGTGCCCGCCTCTCACCTGCAGCCGACCAATCAGACGCAACCCTTCAGACTGCTGTAAGGAGTGTCCTGCGGAAGACACACCCCCTCTGGAGGACGATGAAATGATGCAGGCAGACGGGACACGGCACTGCAAGTTTGGCGATAACTACTACCAGAATAGTGAACACTGGCACCCTCGTGTTCCACTGGTGGGAGAAATGAAGTGCATTACCTGCTGGTGTGATCATGGCGTCACAAAGTGCCAGAAAAAGCAGTGCCCATTGTTGAGTTGCAGTAACCCCATTCGGAGAGAAGGAAAATGCTGTCCTGAATGCATAGAGGACTTCATGGAAAAAGAAGAAATGGCAAAAATGGTGGAGAAAAAGAAAAACTGGAGACACTGA\n"
     ]
    }
   ],
   "source": [
    "#Print out the cds sequence\n",
    "print(seq_cds)"
   ]
  },
  {
   "cell_type": "code",
   "execution_count": 28,
   "metadata": {},
   "outputs": [
    {
     "name": "stdout",
     "output_type": "stream",
     "text": [
      "2832\n"
     ]
    }
   ],
   "source": [
    "#Sequence length\n",
    "print(len(seq_cds))"
   ]
  },
  {
   "cell_type": "code",
   "execution_count": 31,
   "metadata": {},
   "outputs": [
    {
     "name": "stdout",
     "output_type": "stream",
     "text": [
      "MEASRALWILCCAFLASALGSRLKTPALPIQPEREPMISKGLSGCSFGGRFYSLEDTWHPDLGEPFGVMHCVMCHCEPQRSRRGKVFGKVSCRNMKQDCPDPTCDDPVLLPGHCCKTCPKGNSGKKEVESLFEFFQEKDDDLHKSYNDRSYISSEENSNRDSAADFVAVLTGVTDSWLPSSSGVARARFTLARTSLTFSITFQRMNRPSLITFLDSDGNTAFEFRVPLADTDMICGVWRNLPKSHLRQLEAEQLHVSMTTADNKKEEIQGKIIKHRALFAETFSAILTSDEVHSGMGGIAMLTLSDTENNLHFILILQGLVSHGSSSVKVPVRVKLLYRQHLLREIQANISADDSDLAEVLADLNSRELFWLSRGQLQISVETEGQNSRQVSGFISGKRSCDTLQSVMSSGSALTPGKTGGVGSAVFTLHHNGSLDFQVLVAGLSSAVVGVTIEMKPRRRSKRSVLYDITADFSTAGERGGGRAMGSCGRVEARHIHMLLQNELFINIATAEQQESELRGQIRMLPYNGLDARRNELPVPLAGQFVSPPVRTGAAGHAWVSVDEQCHLHYEIVINGLSNSEDTSVNAHLHGLAEIGEMDDSSTNHKRLLTGFYGQQAQGVLKDISVELLRHLDEGTAYIQVSTKMNPRGEIRGRIHVPNSCELGSRGEVVEEAEFDELVFVRDPAELRKDPHTCFFEGEHHAHGSQWTPQYNTCFTCICQKKTVICDPVICPALSCPHTIQPEDQCCPICDEKKESKQTTAVEKVEEDPEGCYFEGDQKMHAPGTTWHPFVPPFGYIKCAVCTCKGSTGEVHCEKLTCPPLTCSRPIRRNPSDCCKECPAEDTPPLEDDEMMQADGTRHCKFGDNYYQNSEHWHPRVPLVGEMKCITCWCDHGVTKCQKKQCPLLSCSNPIRREGKCCPECIEDFMEKEEMAKMVEKKKNWRH*\n"
     ]
    }
   ],
   "source": [
    "#Translation\n",
    "print(seq_cds.translate())"
   ]
  },
  {
   "cell_type": "code",
   "execution_count": 36,
   "metadata": {},
   "outputs": [
    {
     "data": {
      "text/plain": [
       "944"
      ]
     },
     "execution_count": 36,
     "metadata": {},
     "output_type": "execute_result"
    }
   ],
   "source": [
    "len(seq_cds.translate())"
   ]
  },
  {
   "cell_type": "markdown",
   "metadata": {},
   "source": [
    "#### Transcribe and translation"
   ]
  },
  {
   "cell_type": "code",
   "execution_count": 54,
   "metadata": {},
   "outputs": [
    {
     "data": {
      "text/plain": [
       "Seq('AUGGAGGCGUCGCGAGCUCUGUGGAUUCUGUGCUGCGCGUUCCUCGCGUCGGCU...UGA', IUPACAmbiguousRNA())"
      ]
     },
     "execution_count": 54,
     "metadata": {},
     "output_type": "execute_result"
    }
   ],
   "source": [
    "#transcribe\n",
    "seq_cds.transcribe()"
   ]
  },
  {
   "cell_type": "code",
   "execution_count": 55,
   "metadata": {},
   "outputs": [
    {
     "data": {
      "text/plain": [
       "Seq('MEASRALWILCCAFLASALGSRLKTPALPIQPEREPMISKGLSGCSFGGRFYSL...RH*', HasStopCodon(ExtendedIUPACProtein(), '*'))"
      ]
     },
     "execution_count": 55,
     "metadata": {},
     "output_type": "execute_result"
    }
   ],
   "source": [
    "#transcribe and translate\n",
    "seq_cds.transcribe().translate()"
   ]
  },
  {
   "cell_type": "markdown",
   "metadata": {},
   "source": [
    "#### GC content"
   ]
  },
  {
   "cell_type": "code",
   "execution_count": 47,
   "metadata": {},
   "outputs": [
    {
     "data": {
      "text/plain": [
       "54.378531073446325"
      ]
     },
     "execution_count": 47,
     "metadata": {},
     "output_type": "execute_result"
    }
   ],
   "source": [
    "#Caliculate gc content using self-made script\n",
    "100 * float(seq_cds.count(\"G\") + seq_cds.count(\"C\")) / len(seq_cds)"
   ]
  },
  {
   "cell_type": "code",
   "execution_count": 49,
   "metadata": {},
   "outputs": [
    {
     "data": {
      "text/plain": [
       "54.378531073446325"
      ]
     },
     "execution_count": 49,
     "metadata": {},
     "output_type": "execute_result"
    }
   ],
   "source": [
    "#Caliculate gc content using GC method\n",
    "from Bio.SeqUtils import GC\n",
    "GC(seq_cds)"
   ]
  },
  {
   "cell_type": "markdown",
   "metadata": {},
   "source": [
    "#### Access each base using python enumerate function"
   ]
  },
  {
   "cell_type": "code",
   "execution_count": 60,
   "metadata": {},
   "outputs": [
    {
     "name": "stdout",
     "output_type": "stream",
     "text": [
      "ATGGAGGCG\n"
     ]
    }
   ],
   "source": [
    "#Extract subsequence using python slice method\n",
    "#Extract first nine bases\n",
    "sub_sequence = seq_cds[0:9:]\n",
    "print(sub_sequence)"
   ]
  },
  {
   "cell_type": "code",
   "execution_count": 61,
   "metadata": {},
   "outputs": [
    {
     "name": "stdout",
     "output_type": "stream",
     "text": [
      "0 A\n",
      "1 T\n",
      "2 G\n",
      "3 G\n",
      "4 A\n",
      "5 G\n",
      "6 G\n",
      "7 C\n",
      "8 G\n"
     ]
    }
   ],
   "source": [
    "for index, letter in enumerate(sub_sequence):\n",
    "    print(\"%i %s\" % (index, letter))"
   ]
  },
  {
   "cell_type": "markdown",
   "metadata": {},
   "source": [
    "# Inspecting SeqRecord object"
   ]
  },
  {
   "cell_type": "code",
   "execution_count": 63,
   "metadata": {},
   "outputs": [
    {
     "name": "stdout",
     "output_type": "stream",
     "text": [
      "ID: XM_026255215.1\n",
      "Name: XM_026255215\n",
      "Description: PREDICTED: Carassius auratus chordin (LOC113085615), mRNA\n",
      "Database cross-references: BioProject:PRJNA487739\n",
      "Number of features: 3\n",
      "/molecule_type=mRNA\n",
      "/topology=linear\n",
      "/data_file_division=VRT\n",
      "/date=04-SEP-2018\n",
      "/accessions=['XM_026255215']\n",
      "/sequence_version=1\n",
      "/keywords=['RefSeq']\n",
      "/source=Carassius auratus (goldfish)\n",
      "/organism=Carassius auratus\n",
      "/taxonomy=['Eukaryota', 'Metazoa', 'Chordata', 'Craniata', 'Vertebrata', 'Euteleostomi', 'Actinopterygii', 'Neopterygii', 'Teleostei', 'Ostariophysi', 'Cypriniformes', 'Cyprinidae', 'Carassius']\n",
      "/comment=MODEL REFSEQ:  This record is predicted by automated computational\n",
      "analysis. This record is derived from a genomic sequence\n",
      "(NW_020526691.1) annotated using gene prediction method: Gnomon.\n",
      "Also see:\n",
      "    Documentation of NCBI's Annotation Process\n",
      "                               100\n",
      "                               pipeline\n",
      "/structured_comment=OrderedDict([('Genome-Annotation-Data', OrderedDict([('Annotation Provider', 'NCBI'), ('Annotation Status', 'Full annotation'), ('Annotation Name', 'Carassius auratus Annotation Release'), ('Annotation Version', '100'), ('Annotation Pipeline', 'NCBI eukaryotic genome annotation'), ('Annotation Software Version', '8.1'), ('Annotation Method', 'Best-placed RefSeq; Gnomon'), ('Features Annotated', 'Gene; mRNA; CDS; ncRNA')]))])\n",
      "Seq('ACGACTCACACTCGCTGAGACACATCGGGGAGAACCTCACTCTGTTTATTTGGT...TGT', IUPACAmbiguousDNA())\n"
     ]
    }
   ],
   "source": [
    "print(record)"
   ]
  },
  {
   "cell_type": "code",
   "execution_count": 64,
   "metadata": {},
   "outputs": [
    {
     "data": {
      "text/plain": [
       "'XM_026255215.1'"
      ]
     },
     "execution_count": 64,
     "metadata": {},
     "output_type": "execute_result"
    }
   ],
   "source": [
    "#id attribute\n",
    "record.id"
   ]
  },
  {
   "cell_type": "code",
   "execution_count": 65,
   "metadata": {},
   "outputs": [
    {
     "data": {
      "text/plain": [
       "'XM_026255215'"
      ]
     },
     "execution_count": 65,
     "metadata": {},
     "output_type": "execute_result"
    }
   ],
   "source": [
    "#name attribute\n",
    "record.name"
   ]
  },
  {
   "cell_type": "code",
   "execution_count": 72,
   "metadata": {},
   "outputs": [
    {
     "data": {
      "text/plain": [
       "'PREDICTED: Carassius auratus chordin (LOC113085615), mRNA'"
      ]
     },
     "execution_count": 72,
     "metadata": {},
     "output_type": "execute_result"
    }
   ],
   "source": [
    "#description attribute\n",
    "record.description"
   ]
  },
  {
   "cell_type": "code",
   "execution_count": 74,
   "metadata": {},
   "outputs": [
    {
     "data": {
      "text/plain": [
       "['BioProject:PRJNA487739']"
      ]
     },
     "execution_count": 74,
     "metadata": {},
     "output_type": "execute_result"
    }
   ],
   "source": [
    "#dbxrefs attribute\n",
    "record.dbxrefs"
   ]
  },
  {
   "cell_type": "code",
   "execution_count": 70,
   "metadata": {},
   "outputs": [
    {
     "data": {
      "text/plain": [
       "[SeqFeature(FeatureLocation(ExactPosition(0), ExactPosition(3636), strand=1), type='source'),\n",
       " SeqFeature(FeatureLocation(ExactPosition(0), ExactPosition(3636), strand=1), type='gene'),\n",
       " SeqFeature(FeatureLocation(ExactPosition(103), ExactPosition(2935), strand=1), type='CDS')]"
      ]
     },
     "execution_count": 70,
     "metadata": {},
     "output_type": "execute_result"
    }
   ],
   "source": [
    "#features attribute\n",
    "record.features"
   ]
  },
  {
   "cell_type": "code",
   "execution_count": 78,
   "metadata": {},
   "outputs": [
    {
     "data": {
      "text/plain": [
       "{'molecule_type': 'mRNA',\n",
       " 'topology': 'linear',\n",
       " 'data_file_division': 'VRT',\n",
       " 'date': '04-SEP-2018',\n",
       " 'accessions': ['XM_026255215'],\n",
       " 'sequence_version': 1,\n",
       " 'keywords': ['RefSeq'],\n",
       " 'source': 'Carassius auratus (goldfish)',\n",
       " 'organism': 'Carassius auratus',\n",
       " 'taxonomy': ['Eukaryota',\n",
       "  'Metazoa',\n",
       "  'Chordata',\n",
       "  'Craniata',\n",
       "  'Vertebrata',\n",
       "  'Euteleostomi',\n",
       "  'Actinopterygii',\n",
       "  'Neopterygii',\n",
       "  'Teleostei',\n",
       "  'Ostariophysi',\n",
       "  'Cypriniformes',\n",
       "  'Cyprinidae',\n",
       "  'Carassius'],\n",
       " 'comment': \"MODEL REFSEQ:  This record is predicted by automated computational\\nanalysis. This record is derived from a genomic sequence\\n(NW_020526691.1) annotated using gene prediction method: Gnomon.\\nAlso see:\\n    Documentation of NCBI's Annotation Process\\n                               100\\n                               pipeline\",\n",
       " 'structured_comment': OrderedDict([('Genome-Annotation-Data',\n",
       "               OrderedDict([('Annotation Provider', 'NCBI'),\n",
       "                            ('Annotation Status', 'Full annotation'),\n",
       "                            ('Annotation Name',\n",
       "                             'Carassius auratus Annotation Release'),\n",
       "                            ('Annotation Version', '100'),\n",
       "                            ('Annotation Pipeline',\n",
       "                             'NCBI eukaryotic genome annotation'),\n",
       "                            ('Annotation Software Version', '8.1'),\n",
       "                            ('Annotation Method',\n",
       "                             'Best-placed RefSeq; Gnomon'),\n",
       "                            ('Features Annotated',\n",
       "                             'Gene; mRNA; CDS; ncRNA')]))])}"
      ]
     },
     "execution_count": 78,
     "metadata": {},
     "output_type": "execute_result"
    }
   ],
   "source": [
    "#The attribute of annotations is dictionary type\n",
    "record.annotations"
   ]
  },
  {
   "cell_type": "markdown",
   "metadata": {},
   "source": [
    "#### Using the annotations attribute, I show a simple example how to handle dictionary type in python"
   ]
  },
  {
   "cell_type": "code",
   "execution_count": 85,
   "metadata": {},
   "outputs": [
    {
     "data": {
      "text/plain": [
       "list"
      ]
     },
     "execution_count": 85,
     "metadata": {},
     "output_type": "execute_result"
    }
   ],
   "source": [
    "type(record.annotations[\"taxonomy\"])"
   ]
  },
  {
   "cell_type": "code",
   "execution_count": 86,
   "metadata": {},
   "outputs": [
    {
     "data": {
      "text/plain": [
       "['Eukaryota',\n",
       " 'Metazoa',\n",
       " 'Chordata',\n",
       " 'Craniata',\n",
       " 'Vertebrata',\n",
       " 'Euteleostomi',\n",
       " 'Actinopterygii',\n",
       " 'Neopterygii',\n",
       " 'Teleostei',\n",
       " 'Ostariophysi',\n",
       " 'Cypriniformes',\n",
       " 'Cyprinidae',\n",
       " 'Carassius']"
      ]
     },
     "execution_count": 86,
     "metadata": {},
     "output_type": "execute_result"
    }
   ],
   "source": [
    "record.annotations[\"taxonomy\"]"
   ]
  },
  {
   "cell_type": "code",
   "execution_count": 87,
   "metadata": {},
   "outputs": [
    {
     "data": {
      "text/plain": [
       "13"
      ]
     },
     "execution_count": 87,
     "metadata": {},
     "output_type": "execute_result"
    }
   ],
   "source": [
    "len(record.annotations[\"taxonomy\"])"
   ]
  },
  {
   "cell_type": "code",
   "execution_count": 89,
   "metadata": {},
   "outputs": [
    {
     "data": {
      "text/plain": [
       "'Carassius'"
      ]
     },
     "execution_count": 89,
     "metadata": {},
     "output_type": "execute_result"
    }
   ],
   "source": [
    "#Extract Genus name (last entry)\n",
    "record.annotations[\"taxonomy\"][12]"
   ]
  },
  {
   "cell_type": "code",
   "execution_count": null,
   "metadata": {},
   "outputs": [],
   "source": []
  }
 ],
 "metadata": {
  "kernelspec": {
   "display_name": "Python 3",
   "language": "python",
   "name": "python3"
  },
  "language_info": {
   "codemirror_mode": {
    "name": "ipython",
    "version": 3
   },
   "file_extension": ".py",
   "mimetype": "text/x-python",
   "name": "python",
   "nbconvert_exporter": "python",
   "pygments_lexer": "ipython3",
   "version": "3.7.3"
  }
 },
 "nbformat": 4,
 "nbformat_minor": 2
}
